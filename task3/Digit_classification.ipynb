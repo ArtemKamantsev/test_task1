{
 "cells": [
  {
   "cell_type": "code",
   "id": "initial_id",
   "metadata": {
    "collapsed": true,
    "ExecuteTime": {
     "end_time": "2024-09-22T23:37:01.697520Z",
     "start_time": "2024-09-22T23:37:01.695191Z"
    }
   },
   "source": [
    "from abc import ABC, abstractmethod\n",
    "from enum import Enum\n",
    "from typing import Any\n",
    "\n",
    "import numpy as np\n",
    "import onnx\n",
    "import onnxruntime as rt\n",
    "import tensorflow as tf\n",
    "import tf2onnx\n",
    "from skl2onnx import convert_sklearn\n",
    "from skl2onnx.common.data_types import FloatTensorType\n",
    "from sklearn.ensemble import RandomForestClassifier"
   ],
   "outputs": [],
   "execution_count": 126
  },
  {
   "metadata": {},
   "cell_type": "markdown",
   "source": "# Create mock models",
   "id": "4c29bb7d59d0455e"
  },
  {
   "metadata": {
    "ExecuteTime": {
     "end_time": "2024-09-22T23:30:46.789684Z",
     "start_time": "2024-09-22T23:30:46.724047Z"
    }
   },
   "cell_type": "code",
   "source": [
    "# DecisionTree model\n",
    "random_forest = RandomForestClassifier()\n",
    "X, y = np.random.rand(10, 784).astype(np.float32), np.random.randint(0, 11, size=(10,))\n",
    "random_forest.fit(X, y)\n",
    "\n",
    "onx = convert_sklearn(\n",
    "    random_forest, initial_types=[(\"input\", FloatTensorType((None, X.shape[1])))],\n",
    "    options={id(random_forest): {\"zipmap\": False}},\n",
    "    target_opset=21\n",
    ")\n",
    "with open(\"../models/random_forest.onnx\", \"wb\") as f:\n",
    "    f.write(onx.SerializeToString())\n",
    "\n",
    "# Check model\n",
    "sess = rt.InferenceSession(\"../models/random_forest.onnx\", providers=[\"CPUExecutionProvider\"])\n",
    "\n",
    "input_name = sess.get_inputs()[0].name\n",
    "label_name = sess.get_outputs()[0].name\n",
    "pred_onx = sess.run([label_name], {input_name: X})\n",
    "pred_onx"
   ],
   "id": "8325c8114bc994e6",
   "outputs": [
    {
     "data": {
      "text/plain": [
       "[array([2, 4, 8, 1, 6, 1, 6, 4, 8, 2], dtype=int64)]"
      ]
     },
     "execution_count": 118,
     "metadata": {},
     "output_type": "execute_result"
    }
   ],
   "execution_count": 118
  },
  {
   "metadata": {
    "ExecuteTime": {
     "end_time": "2024-09-22T23:30:47.580386Z",
     "start_time": "2024-09-22T23:30:47.118427Z"
    }
   },
   "cell_type": "code",
   "source": [
    "# CNN model\n",
    "inputs = tf.keras.Input(shape=(28, 28, 1))\n",
    "x = tf.keras.layers.Conv2D(filters=1, kernel_size=3)(inputs)\n",
    "x = tf.keras.layers.Reshape((-1,))(x)\n",
    "x = tf.keras.layers.Dense(10, activation='softmax')(x)\n",
    "model = tf.keras.Model(inputs=inputs, outputs=x)\n",
    "\n",
    "opt = tf.keras.optimizers.Adam(learning_rate=0.001)\n",
    "model.compile(optimizer=opt, loss='MSE')\n",
    "X, y = np.random.rand(10, 28, 28, 1).astype(np.float32), np.random.randint(0, 11, size=(10,))\n",
    "model.fit(X, y)\n",
    "\n",
    "input_signature = [tf.TensorSpec([None, 28, 28, 1], tf.float32, name='input')]\n",
    "# Use from_function for tf functions\n",
    "onnx_model, _ = tf2onnx.convert.from_keras(model, input_signature, opset=18)\n",
    "onnx.save(onnx_model, \"../models/cnn.onnx\")\n",
    "\n",
    "# Check model\n",
    "sess = rt.InferenceSession(\"../models/cnn.onnx\", providers=[\"CPUExecutionProvider\"])\n",
    "\n",
    "input_name = sess.get_inputs()[0].name\n",
    "label_name = sess.get_outputs()[0].name\n",
    "pred_onx = sess.run([label_name], {input_name: X})[0]\n",
    "pred_onx.shape"
   ],
   "id": "8b8f6316c6d5c51a",
   "outputs": [
    {
     "name": "stdout",
     "output_type": "stream",
     "text": [
      "\u001B[1m1/1\u001B[0m \u001B[32m━━━━━━━━━━━━━━━━━━━━\u001B[0m\u001B[37m\u001B[0m \u001B[1m0s\u001B[0m 315ms/step - loss: 31.9386\n"
     ]
    },
    {
     "name": "stderr",
     "output_type": "stream",
     "text": [
      "I0000 00:00:1727047847.488959 10906995 devices.cc:76] Number of eligible GPUs (core count >= 8, compute capability >= 0.0): 0 (Note: TensorFlow was not compiled with CUDA or ROCm support)\n",
      "I0000 00:00:1727047847.519354 10906995 devices.cc:76] Number of eligible GPUs (core count >= 8, compute capability >= 0.0): 0 (Note: TensorFlow was not compiled with CUDA or ROCm support)\n"
     ]
    },
    {
     "data": {
      "text/plain": [
       "(10, 10)"
      ]
     },
     "execution_count": 119,
     "metadata": {},
     "output_type": "execute_result"
    }
   ],
   "execution_count": 119
  },
  {
   "metadata": {},
   "cell_type": "markdown",
   "source": "# Digit Classification",
   "id": "8d789855d0ecf793"
  },
  {
   "metadata": {
    "ExecuteTime": {
     "end_time": "2024-09-23T00:02:27.792294Z",
     "start_time": "2024-09-23T00:02:27.773353Z"
    }
   },
   "cell_type": "code",
   "source": [
    "class DigitClassificationInterface(ABC):\n",
    "    def __init__(self):\n",
    "        self.__shape = (28, 28, 1)\n",
    "\n",
    "    def predict(self, input_: np.ndarray) -> int:\n",
    "        if not isinstance(input_, np.ndarray) or input_.shape[:] != self.__shape[:]:\n",
    "            raise ValueError(f'The input must be a numpy nd-array of shape {self.__shape}')\n",
    "\n",
    "        input_prepared = self._pre_process(input_)\n",
    "        proba_prediction = self._predict(input_prepared)\n",
    "        result = self._post_process(proba_prediction)\n",
    "\n",
    "        return result\n",
    "\n",
    "    @abstractmethod\n",
    "    def _pre_process(self, input_: np.ndarray) -> Any:\n",
    "        pass\n",
    "\n",
    "    @abstractmethod\n",
    "    def _predict(self, input_: Any) -> np.ndarray:\n",
    "        pass\n",
    "\n",
    "    def _post_process(self, proba_prediction: np.ndarray) -> int:\n",
    "        return proba_prediction.argmax().item()\n",
    "\n",
    "\n",
    "class DigitClassificationRandom(DigitClassificationInterface):\n",
    "    def __init__(self):\n",
    "        super().__init__()\n",
    "        self.__seed = 42\n",
    "\n",
    "    def _pre_process(self, input_: np.ndarray) -> Any:\n",
    "        return input_[9: -9, 9: -9]  # center-crop\n",
    "\n",
    "    def _predict(self, input_: Any) -> np.ndarray:\n",
    "        prediction = np.random.rand(10)\n",
    "        prediction_normalized = prediction / prediction.sum()\n",
    "\n",
    "        return prediction_normalized\n",
    "\n",
    "\n",
    "class DigitClassificationONNX(DigitClassificationInterface):\n",
    "    def __init__(self, model_path):\n",
    "        super().__init__()\n",
    "        self._session = rt.InferenceSession(model_path, providers=[\"CPUExecutionProvider\"])\n",
    "        self._input_name = self._session.get_inputs()[0].name\n",
    "        self._label_name = self._session.get_outputs()[0].name\n",
    "\n",
    "    def _pre_process(self, input_: np.ndarray) -> Any:\n",
    "        # insert sample dimension\n",
    "        return input_.reshape((1, *input_.shape))\n",
    "\n",
    "    def _predict(self, input_: Any) -> np.ndarray:\n",
    "        return self._session.run([self._label_name], {self._input_name: input_})[0]\n",
    "\n",
    "    def _post_process(self, proba_prediction: np.ndarray) -> int:\n",
    "        # remove sample dimension\n",
    "        return super()._post_process(proba_prediction[0])\n",
    "\n",
    "\n",
    "class DigitClassificationCNN(DigitClassificationONNX):\n",
    "    pass\n",
    "\n",
    "\n",
    "class DigitClassificationRandomForest(DigitClassificationONNX):\n",
    "    def __init__(self, model_path):\n",
    "        super().__init__(model_path)\n",
    "        # override target output\n",
    "        self._label_name = self._session.get_outputs()[1].name\n",
    "\n",
    "    def _pre_process(self, input_: np.ndarray) -> Any:\n",
    "        input_ = super()._pre_process(input_)\n",
    "        return input_.reshape((input_.shape[0], -1,))\n",
    "\n",
    "\n",
    "class PredictionAlgorithms(Enum):\n",
    "    RAND = DigitClassificationRandom()\n",
    "    RANDOM_FOREST = DigitClassificationRandomForest(model_path='../models/random_forest.onnx')\n",
    "    CNN = DigitClassificationCNN(model_path='../models/cnn.onnx')\n",
    "    \n",
    "    def __init__(self, value):\n",
    "        if not isinstance(value, DigitClassificationInterface):\n",
    "            raise ValueError(f'Invalid type of value: {type(value)}. Value must inherit from DigitClassificationInterface')\n",
    "\n",
    "class DigitClassifier:\n",
    "    def __init__(self, algorithm: PredictionAlgorithms):\n",
    "        self.__algorithm = algorithm.value\n",
    "    \n",
    "    def predict(self, input_: np.ndarray):\n",
    "        return self.__algorithm.predict(input_)"
   ],
   "id": "8fdab0bc90f013a8",
   "outputs": [],
   "execution_count": 141
  },
  {
   "metadata": {
    "ExecuteTime": {
     "end_time": "2024-09-23T00:03:24.162046Z",
     "start_time": "2024-09-23T00:03:24.158538Z"
    }
   },
   "cell_type": "code",
   "source": [
    "np.random.seed(42)\n",
    "sample = np.random.rand(28, 28, 1).astype(np.float32)\n",
    "classifier = DigitClassifier(PredictionAlgorithms.RAND)\n",
    "classifier.predict(sample)"
   ],
   "id": "841a3a7073a91ea1",
   "outputs": [
    {
     "data": {
      "text/plain": [
       "5"
      ]
     },
     "execution_count": 165,
     "metadata": {},
     "output_type": "execute_result"
    }
   ],
   "execution_count": 165
  }
 ],
 "metadata": {
  "kernelspec": {
   "display_name": "Python 3",
   "language": "python",
   "name": "python3"
  },
  "language_info": {
   "codemirror_mode": {
    "name": "ipython",
    "version": 2
   },
   "file_extension": ".py",
   "mimetype": "text/x-python",
   "name": "python",
   "nbconvert_exporter": "python",
   "pygments_lexer": "ipython2",
   "version": "2.7.6"
  }
 },
 "nbformat": 4,
 "nbformat_minor": 5
}

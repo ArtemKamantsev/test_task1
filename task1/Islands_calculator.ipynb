{
 "cells": [
  {
   "cell_type": "code",
   "id": "initial_id",
   "metadata": {
    "collapsed": true,
    "ExecuteTime": {
     "end_time": "2024-09-22T20:41:30.786357Z",
     "start_time": "2024-09-22T20:41:30.782694Z"
    }
   },
   "source": [
    "import numpy as np\n",
    "import cv2 as cv\n",
    "from collections import deque"
   ],
   "outputs": [],
   "execution_count": 49
  },
  {
   "metadata": {
    "ExecuteTime": {
     "end_time": "2024-09-22T20:51:01.353286Z",
     "start_time": "2024-09-22T20:51:01.345485Z"
    }
   },
   "cell_type": "code",
   "source": [
    "def count_opencv(img):\n",
    "    n, labels = cv.connectedComponents(img.astype('uint8'), connectivity=4)\n",
    "\n",
    "    return n - 1\n",
    "\n",
    "\n",
    "def count_dfs(img):\n",
    "    \"\"\"Depth-wise search (breadth-wise search could be used as well)\"\"\"\n",
    "    img = np.pad(img, pad_width=1)\n",
    "    visited_mask = np.zeros(img.shape, dtype=bool)\n",
    "    \n",
    "    def search(y, x):\n",
    "        stack = deque()\n",
    "        stack.append((y, x))\n",
    "        \n",
    "        while len(stack) > 0:\n",
    "            y, x = stack.pop()\n",
    "            visited_mask[y, x] = True\n",
    "            if img[y - 1, x] > 0 and not visited_mask[y - 1, x]:\n",
    "                stack.append((y - 1, x))\n",
    "            if img[y + 1, x] > 0 and not visited_mask[y + 1, x]:\n",
    "                stack.append((y + 1, x))\n",
    "            if img[y, x - 1] > 0 and not visited_mask[y, x - 1]:\n",
    "                stack.append((y, x - 1))\n",
    "            if img[y, x + 1] > 0 and not visited_mask[y, x + 1]:\n",
    "                stack.append((y, x + 1))\n",
    "\n",
    "    count = 0\n",
    "    for i in range(1, img.shape[0] - 1):\n",
    "        for j in range(1, img.shape[1] - 1):\n",
    "            if img[i, j] == 0 or visited_mask[i, j]:\n",
    "                continue\n",
    "            \n",
    "            count += 1\n",
    "            search(i, j)\n",
    "            \n",
    "    return count"
   ],
   "id": "abe8066e49aedbbb",
   "outputs": [],
   "execution_count": 50
  },
  {
   "metadata": {
    "ExecuteTime": {
     "end_time": "2024-09-22T20:54:27.468695Z",
     "start_time": "2024-09-22T20:54:27.461275Z"
    }
   },
   "cell_type": "code",
   "source": [
    "img1 = np.asarray([\n",
    "    [0, 1, 0],\n",
    "    [0, 0, 0],\n",
    "    [0, 1, 1],\n",
    "])\n",
    "img2 = np.asarray([\n",
    "    [0, 0, 0, 1],\n",
    "    [0, 0, 1, 0],\n",
    "    [0, 1, 0, 0],\n",
    "])\n",
    "img3 = np.asarray([\n",
    "    [0, 0, 0, 1],\n",
    "    [0, 0, 1, 1],\n",
    "    [0, 1, 0, 1],\n",
    "])\n",
    "np.random.seed(42)\n",
    "img_list = np.random.randint(low=0, high=2, size=(100, 100, 100))"
   ],
   "id": "d4e43c98e533d326",
   "outputs": [],
   "execution_count": 75
  },
  {
   "metadata": {
    "ExecuteTime": {
     "end_time": "2024-09-22T20:51:05.983979Z",
     "start_time": "2024-09-22T20:51:05.980818Z"
    }
   },
   "cell_type": "code",
   "source": [
    "# Check open-cv solution\n",
    "count_opencv(img1), \\\n",
    "    count_opencv(img2), \\\n",
    "    count_opencv(img3)"
   ],
   "id": "38df051af38aa4aa",
   "outputs": [
    {
     "data": {
      "text/plain": [
       "(2, 3, 2)"
      ]
     },
     "execution_count": 52,
     "metadata": {},
     "output_type": "execute_result"
    }
   ],
   "execution_count": 52
  },
  {
   "metadata": {
    "ExecuteTime": {
     "end_time": "2024-09-22T20:51:14.740864Z",
     "start_time": "2024-09-22T20:51:14.737897Z"
    }
   },
   "cell_type": "code",
   "source": [
    "# Check custom solution\n",
    "count_dfs(img1), \\\n",
    "    count_dfs(img2), \\\n",
    "    count_dfs(img3)"
   ],
   "id": "f8a960620046310",
   "outputs": [
    {
     "data": {
      "text/plain": [
       "(2, 3, 2)"
      ]
     },
     "execution_count": 53,
     "metadata": {},
     "output_type": "execute_result"
    }
   ],
   "execution_count": 53
  },
  {
   "metadata": {
    "ExecuteTime": {
     "end_time": "2024-09-22T20:55:21.779100Z",
     "start_time": "2024-09-22T20:55:21.258136Z"
    }
   },
   "cell_type": "code",
   "source": [
    "# Verify custom solution validity on the number of random samples\n",
    "len(img_list) == sum([count_opencv(img) == count_dfs(img) for img in img_list])"
   ],
   "id": "60cd81b36e4a1fb4",
   "outputs": [
    {
     "data": {
      "text/plain": [
       "True"
      ]
     },
     "execution_count": 76,
     "metadata": {},
     "output_type": "execute_result"
    }
   ],
   "execution_count": 76
  },
  {
   "metadata": {
    "ExecuteTime": {
     "end_time": "2024-09-22T19:44:12.708444Z",
     "start_time": "2024-09-22T19:44:11.829338Z"
    }
   },
   "cell_type": "code",
   "source": "%timeit -n 100_000 -r 10 count_opencv(img1)",
   "id": "e9c3c40851c0071b",
   "outputs": [
    {
     "name": "stdout",
     "output_type": "stream",
     "text": [
      "876 ns ± 12.9 ns per loop (mean ± std. dev. of 10 runs, 100,000 loops each)\n"
     ]
    }
   ],
   "execution_count": 39
  },
  {
   "metadata": {
    "ExecuteTime": {
     "end_time": "2024-09-22T20:57:00.537055Z",
     "start_time": "2024-09-22T20:56:49.037355Z"
    }
   },
   "cell_type": "code",
   "source": "%timeit -n 100_000 -r 10 count_dfs(img1)",
   "id": "c51bcf94f57823bb",
   "outputs": [
    {
     "name": "stdout",
     "output_type": "stream",
     "text": [
      "11.5 μs ± 81.4 ns per loop (mean ± std. dev. of 10 runs, 100,000 loops each)\n"
     ]
    }
   ],
   "execution_count": 79
  },
  {
   "metadata": {},
   "cell_type": "markdown",
   "source": "Evidence: custom solution is correct, but it takes 11 times more time to open-cv solution",
   "id": "613bd2628cace019"
  }
 ],
 "metadata": {
  "kernelspec": {
   "display_name": "Python 3",
   "language": "python",
   "name": "python3"
  },
  "language_info": {
   "codemirror_mode": {
    "name": "ipython",
    "version": 2
   },
   "file_extension": ".py",
   "mimetype": "text/x-python",
   "name": "python",
   "nbconvert_exporter": "python",
   "pygments_lexer": "ipython2",
   "version": "2.7.6"
  }
 },
 "nbformat": 4,
 "nbformat_minor": 5
}
